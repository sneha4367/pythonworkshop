{
 "cells": [
  {
   "cell_type": "markdown",
   "metadata": {},
   "source": [
    "# To day Agenda\n",
    "+ Execution of commands in python shell\n",
    "- data types\n",
    "     + int\n",
    "     + float\n",
    "     + bool\n",
    "     + complex\n",
    "     + str\n",
    "+ I/P and O/P\n",
    "+ program execution in idle\n",
    "+ program execution in command prompt\n",
    "+ Git Hub Account Creation"
   ]
  },
  {
   "cell_type": "code",
   "execution_count": null,
   "metadata": {},
   "outputs": [],
   "source": []
  }
 ],
 "metadata": {
  "kernelspec": {
   "display_name": "Python 3",
   "language": "python",
   "name": "python3"
  },
  "language_info": {
   "codemirror_mode": {
    "name": "ipython",
    "version": 3
   },
   "file_extension": ".py",
   "mimetype": "text/x-python",
   "name": "python",
   "nbconvert_exporter": "python",
   "pygments_lexer": "ipython3",
   "version": "3.7.3"
  }
 },
 "nbformat": 4,
 "nbformat_minor": 2
}
